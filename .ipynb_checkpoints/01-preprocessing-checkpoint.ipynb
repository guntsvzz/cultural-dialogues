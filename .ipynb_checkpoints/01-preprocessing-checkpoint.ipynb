{
 "cells": [
  {
   "cell_type": "code",
   "execution_count": 2,
   "metadata": {},
   "outputs": [],
   "source": [
    "import os\n",
    "from dotenv import load_dotenv\n",
    "from langchain_core.output_parsers import StrOutputParser\n",
    "from langchain_core.prompts import PromptTemplate\n",
    "from langchain_openai import AzureChatOpenAI\n",
    "\n",
    "# Step 1: Load environment variables from .env file\n",
    "load_dotenv(\".env\")\n",
    "\n",
    "# Step 2: Retrieve Azure OpenAI environment variables\n",
    "AZURE_OPENAI_ENDPOINT = os.getenv(\"AZURE_OPENAI_ENDPOINT\")\n",
    "AZURE_OPENAI_API_KEY = os.getenv(\"AZURE_OPENAI_API_KEY\")\n",
    "OPENAI_API_VERSION = os.getenv(\"OPENAI_API_VERSION\")\n",
    "\n",
    "# Step 3: Initialize the Azure OpenAI model with required parameters\n",
    "model = AzureChatOpenAI(\n",
    "    azure_deployment=\"gpt-4o-mini\",  # Your Azure deployment\n",
    "    api_version=OPENAI_API_VERSION,  # Your API version\n",
    "    api_key=AZURE_OPENAI_API_KEY,\n",
    "    azure_endpoint=AZURE_OPENAI_ENDPOINT,\n",
    "    temperature=0,  # Controls randomness; 0 is more deterministic\n",
    "    max_tokens=None,  # Set according to your needs\n",
    "    timeout=None  # Adjust if needed\n",
    ")"
   ]
  },
  {
   "cell_type": "code",
   "execution_count": 3,
   "metadata": {},
   "outputs": [],
   "source": [
    "import pandas as pd \n",
    "file_path = 'datasets/6-dimensions-for-website-2015-08-16.csv'\n",
    "df_hofstede_dimension = pd.read_csv(file_path, sep=';')\n",
    "df_hofstede_dimension.shape\n",
    "# Filter rows where the data does not contain \"#NULL!\" (i.e., None values)\n",
    "# Update the filter to consider '#NULL!' as a string instead of None\n",
    "df_hofstede_dimension = df_hofstede_dimension.replace('#NULL!', None)\n",
    "df_hofstede_dimension.dropna(subset=[\"pdi\", \"idv\", \"mas\", \"uai\", \"ltowvs\", \"ivr\"], inplace=True)\n",
    "df_hofstede_dimension.rename(columns={\"ltowvs\":\"lto\"}, inplace=True)\n",
    "df_hofstede_dimension.shape\n",
    "\n",
    "# Create a function to convert numeric values into categories: low, medium, high\n",
    "def categorize(value):\n",
    "    if int(value) <= 35:\n",
    "        return 'low'\n",
    "    elif 36 <= int(value) <= 75:\n",
    "        return 'medium'\n",
    "    else:\n",
    "        return 'high'\n",
    "\n",
    "# Apply the categorization function to each column\n",
    "for column in ['pdi', 'idv', 'mas', 'uai', 'lto', 'ivr']:\n",
    "    df_hofstede_dimension[f'{column}_value'] = df_hofstede_dimension[column].apply(categorize)"
   ]
  },
  {
   "cell_type": "code",
   "execution_count": 4,
   "metadata": {},
   "outputs": [],
   "source": [
    "germany_dimension = df_hofstede_dimension[df_hofstede_dimension['country'] == 'Germany'].to_dict(orient='records')[0]\n",
    "# germany_dimension"
   ]
  },
  {
   "cell_type": "code",
   "execution_count": 5,
   "metadata": {},
   "outputs": [
    {
     "data": {
      "text/html": [
       "<div>\n",
       "<style scoped>\n",
       "    .dataframe tbody tr th:only-of-type {\n",
       "        vertical-align: middle;\n",
       "    }\n",
       "\n",
       "    .dataframe tbody tr th {\n",
       "        vertical-align: top;\n",
       "    }\n",
       "\n",
       "    .dataframe thead th {\n",
       "        text-align: right;\n",
       "    }\n",
       "</style>\n",
       "<table border=\"1\" class=\"dataframe\">\n",
       "  <thead>\n",
       "    <tr style=\"text-align: right;\">\n",
       "      <th></th>\n",
       "      <th>setting</th>\n",
       "      <th>behavior</th>\n",
       "      <th>setting-behavior</th>\n",
       "      <th>constraints</th>\n",
       "      <th>constraints_given</th>\n",
       "      <th>constraint_predict</th>\n",
       "      <th>norm</th>\n",
       "      <th>label</th>\n",
       "      <th>split</th>\n",
       "    </tr>\n",
       "  </thead>\n",
       "  <tbody>\n",
       "    <tr>\n",
       "      <th>0</th>\n",
       "      <td>construction site</td>\n",
       "      <td>make sexual innuendos</td>\n",
       "      <td>construction site [BEHAVIOR] make sexual innue...</td>\n",
       "      <td>[OTHER]'s characteristic is 'uncomfortable' [A...</td>\n",
       "      <td>[OTHER]'s gender is 'woman' [AND] [OTHER]'s ch...</td>\n",
       "      <td>[PERSON]'s role is 'construction worker'</td>\n",
       "      <td>taboo</td>\n",
       "      <td>0</td>\n",
       "      <td>train</td>\n",
       "    </tr>\n",
       "    <tr>\n",
       "      <th>1</th>\n",
       "      <td>cafe</td>\n",
       "      <td>talk about sex</td>\n",
       "      <td>cafe [BEHAVIOR] talk about sex</td>\n",
       "      <td>[PERSON]'s role is 'barista'</td>\n",
       "      <td>[AND]</td>\n",
       "      <td>[PERSON]'s role is 'barista'</td>\n",
       "      <td>taboo</td>\n",
       "      <td>0</td>\n",
       "      <td>train</td>\n",
       "    </tr>\n",
       "    <tr>\n",
       "      <th>2</th>\n",
       "      <td>cemetery</td>\n",
       "      <td>pick flowers</td>\n",
       "      <td>cemetery [BEHAVIOR] pick flowers</td>\n",
       "      <td>[PERSON]'s role is 'cemetery salesperson'</td>\n",
       "      <td>[AND]</td>\n",
       "      <td>[PERSON]'s role is 'cemetery salesperson'</td>\n",
       "      <td>taboo</td>\n",
       "      <td>0</td>\n",
       "      <td>test</td>\n",
       "    </tr>\n",
       "    <tr>\n",
       "      <th>3</th>\n",
       "      <td>banquet hall</td>\n",
       "      <td>have long hair</td>\n",
       "      <td>banquet hall [BEHAVIOR] have long hair</td>\n",
       "      <td>[PERSON]'s gender is 'woman'</td>\n",
       "      <td>[AND]</td>\n",
       "      <td>[PERSON]'s gender is 'woman'</td>\n",
       "      <td>expected</td>\n",
       "      <td>2</td>\n",
       "      <td>train</td>\n",
       "    </tr>\n",
       "    <tr>\n",
       "      <th>4</th>\n",
       "      <td>arena</td>\n",
       "      <td>drink beer</td>\n",
       "      <td>arena [BEHAVIOR] drink beer</td>\n",
       "      <td>[PERSON]'s role is 'player'</td>\n",
       "      <td>[AND]</td>\n",
       "      <td>[PERSON]'s role is 'player'</td>\n",
       "      <td>taboo</td>\n",
       "      <td>0</td>\n",
       "      <td>test</td>\n",
       "    </tr>\n",
       "  </tbody>\n",
       "</table>\n",
       "</div>"
      ],
      "text/plain": [
       "             setting               behavior  \\\n",
       "0  construction site  make sexual innuendos   \n",
       "1               cafe         talk about sex   \n",
       "2           cemetery           pick flowers   \n",
       "3       banquet hall         have long hair   \n",
       "4              arena             drink beer   \n",
       "\n",
       "                                    setting-behavior  \\\n",
       "0  construction site [BEHAVIOR] make sexual innue...   \n",
       "1                     cafe [BEHAVIOR] talk about sex   \n",
       "2                   cemetery [BEHAVIOR] pick flowers   \n",
       "3             banquet hall [BEHAVIOR] have long hair   \n",
       "4                        arena [BEHAVIOR] drink beer   \n",
       "\n",
       "                                         constraints  \\\n",
       "0  [OTHER]'s characteristic is 'uncomfortable' [A...   \n",
       "1                       [PERSON]'s role is 'barista'   \n",
       "2          [PERSON]'s role is 'cemetery salesperson'   \n",
       "3                       [PERSON]'s gender is 'woman'   \n",
       "4                        [PERSON]'s role is 'player'   \n",
       "\n",
       "                                   constraints_given  \\\n",
       "0  [OTHER]'s gender is 'woman' [AND] [OTHER]'s ch...   \n",
       "1                                             [AND]    \n",
       "2                                             [AND]    \n",
       "3                                             [AND]    \n",
       "4                                             [AND]    \n",
       "\n",
       "                          constraint_predict      norm  label  split  \n",
       "0   [PERSON]'s role is 'construction worker'     taboo      0  train  \n",
       "1               [PERSON]'s role is 'barista'     taboo      0  train  \n",
       "2  [PERSON]'s role is 'cemetery salesperson'     taboo      0   test  \n",
       "3               [PERSON]'s gender is 'woman'  expected      2  train  \n",
       "4                [PERSON]'s role is 'player'     taboo      0   test  "
      ]
     },
     "execution_count": 5,
     "metadata": {},
     "output_type": "execute_result"
    }
   ],
   "source": [
    "import pandas as pd\n",
    "# Replace 'your_file.csv' with the path to your CSV file\n",
    "file_path = 'datasets/NormBank.csv'\n",
    "# Read the CSV file into a pandas DataFrame\n",
    "df = pd.read_csv(file_path)\n",
    "# Display the first few rows of the DataFrame\n",
    "df.head()"
   ]
  },
  {
   "cell_type": "code",
   "execution_count": 5,
   "metadata": {},
   "outputs": [
    {
     "data": {
      "text/plain": [
       "taboo       68057\n",
       "normal      59507\n",
       "expected    27859\n",
       "Name: norm, dtype: int64"
      ]
     },
     "execution_count": 5,
     "metadata": {},
     "output_type": "execute_result"
    }
   ],
   "source": [
    "df.norm.value_counts()"
   ]
  },
  {
   "cell_type": "code",
   "execution_count": 6,
   "metadata": {},
   "outputs": [],
   "source": [
    "df_expected = df[df.norm==\"expected\"]"
   ]
  },
  {
   "cell_type": "code",
   "execution_count": 7,
   "metadata": {},
   "outputs": [],
   "source": [
    "sample = df_expected.iloc[2].to_dict()"
   ]
  },
  {
   "cell_type": "code",
   "execution_count": 8,
   "metadata": {},
   "outputs": [
    {
     "data": {
      "text/plain": [
       "{'setting': 'bedroom',\n",
       " 'behavior': 'sleep on your side',\n",
       " 'setting-behavior': 'bedroom [BEHAVIOR] sleep on your side',\n",
       " 'constraints': \"[PERSON]'s medical condition is not 'gastro-oesophageal reflux disease (gord)' [AND] [PERSON]'s medical condition is 'obstructive sleep apnea' [AND] [PERSON]'s medical condition is not 'post-op caesarean-section' [AND] [PERSON]'s medical condition is not 'pregnant'\",\n",
       " 'constraints_given': \"[PERSON]'s medical condition is 'obstructive sleep apnea' [AND] [PERSON]'s medical condition is not 'gastro-oesophageal reflux disease (gord)' [AND] [PERSON]'s medical condition is not 'pregnant' [AND] \",\n",
       " 'constraint_predict': \"[PERSON]'s medical condition is not 'post-op caesarean-section'\",\n",
       " 'norm': 'expected',\n",
       " 'label': 2,\n",
       " 'split': 'train'}"
      ]
     },
     "execution_count": 8,
     "metadata": {},
     "output_type": "execute_result"
    }
   ],
   "source": [
    "sample"
   ]
  },
  {
   "cell_type": "code",
   "execution_count": 151,
   "metadata": {},
   "outputs": [],
   "source": [
    "# Step 5: Create a NormBank prompt template for generating dialogue\n",
    "normbank_prompt = PromptTemplate(\n",
    "    template=\"\"\"\n",
    "    Generate a dialogue based on the following instructions:\n",
    "\n",
    "    Situation: {situation}\n",
    "    Constraints: {constraints}\n",
    "    Country: {country}\n",
    "\n",
    "    Please ensure the dialogue reflects the context described above.\n",
    "    Speaker's name should reflect the country provided.\n",
    "    \"\"\",\n",
    "    input_variables=[\"situation\", \"constraints\", \"country\"]\n",
    ")\n",
    "\n",
    "# Step 6: Define output parser (just as you have done in the reference)\n",
    "output_parser = StrOutputParser()\n",
    "\n",
    "# Step 7: Chain the components together (prompt + model + output parser)\n",
    "chain = normbank_prompt | model | output_parser\n",
    "\n",
    "# Step 8: Define input values and invoke the chain to generate the dialogue\n",
    "input_values = {\n",
    "    \"situation\" :  sample[\"setting\"],\n",
    "    \"constraints\": sample[\"constraints\"],\n",
    "    \"country\": \"Germany\"\n",
    "}\n",
    "\n",
    "# Step 9: Generate the result\n",
    "dialogues = chain.invoke(input_values)"
   ]
  },
  {
   "cell_type": "code",
   "execution_count": 152,
   "metadata": {},
   "outputs": [
    {
     "name": "stdout",
     "output_type": "stream",
     "text": [
      "**Setting: A cozy bedroom in Germany, dimly lit with soft music playing in the background.**\n",
      "\n",
      "**Characters:**\n",
      "- **Anna**: A woman in her early thirties, recently diagnosed with obstructive sleep apnea.\n",
      "- **Lukas**: Anna's supportive partner, concerned about her health.\n",
      "\n",
      "---\n",
      "\n",
      "**Anna**: (sitting on the edge of the bed, looking a bit tired) Ich habe wieder nicht gut geschlafen, Lukas. Es ist wirklich frustrierend.\n",
      "\n",
      "**Lukas**: (sitting beside her, gently rubbing her back) Ich weiß, Anna. Hast du die Maske heute Nacht wieder getragen?\n",
      "\n",
      "**Anna**: Ja, aber ich habe das Gefühl, dass sie nicht richtig sitzt. Manchmal fühle ich mich, als würde ich ersticken.\n",
      "\n",
      "**Lukas**: Das klingt beängstigend. Vielleicht sollten wir mit deinem Arzt sprechen, um sicherzustellen, dass die Einstellung der Maschine stimmt.\n",
      "\n",
      "**Anna**: (sighs) Ja, das denke ich auch. Ich möchte einfach wieder gut schlafen können. Es ist so anstrengend, den ganzen Tag müde zu sein.\n",
      "\n",
      "**Lukas**: (nodding) Ich kann mir vorstellen, wie schwierig das ist. Hast du schon darüber nachgedacht, ob es etwas gibt, das wir zu Hause ändern können? Vielleicht die Schlafposition oder das Kissen?\n",
      "\n",
      "**Anna**: (thoughtfully) Ich habe gehört, dass das Schlafen auf der Seite helfen kann. Aber ich bin so daran gewöhnt, auf dem Rücken zu schlafen.\n",
      "\n",
      "**Lukas**: (encouragingly) Lass es uns versuchen! Wir könnten ein Kissen kaufen, das dir hilft, auf der Seite zu bleiben. Und ich kann dir helfen, dich daran zu gewöhnen.\n",
      "\n",
      "**Anna**: (smiling slightly) Das wäre toll. Ich schätze deine Unterstützung so sehr. Es macht es ein bisschen einfacher, wenn ich nicht alleine bin.\n",
      "\n",
      "**Lukas**: (smiling back) Natürlich, wir sind ein Team. Und ich werde alles tun, um sicherzustellen, dass du die Ruhe bekommst, die du brauchst.\n",
      "\n",
      "**Anna**: (taking a deep breath) Danke, Lukas. Ich fühle mich schon besser, nur weil ich mit dir darüber gesprochen habe.\n",
      "\n",
      "**Lukas**: (leaning closer) Das ist es, was Partner tun. Lass uns morgen einen Termin beim Arzt machen und dann sehen, was wir tun können, um deine Nächte besser zu machen.\n",
      "\n",
      "**Anna**: (nodding) Ja, das klingt nach einem Plan. Ich bin froh, dass ich dich an meiner Seite habe.\n",
      "\n",
      "**Lukas**: (kissing her forehead) Immer, Anna. Wir schaffen das zusammen.\n",
      "\n",
      "--- \n",
      "\n",
      "**(The scene fades as they continue to talk softly, planning for a better night's sleep.)**\n"
     ]
    }
   ],
   "source": [
    "print(dialogues)"
   ]
  },
  {
   "cell_type": "markdown",
   "metadata": {},
   "source": [
    "## Norm-Verification"
   ]
  },
  {
   "cell_type": "code",
   "execution_count": 12,
   "metadata": {},
   "outputs": [],
   "source": [
    "context = {\n",
    "    'setting': 'bedroom',\n",
    "    'behavior': 'sleep on your side',\n",
    "    'setting-behavior': 'bedroom [BEHAVIOR] sleep on your side',\n",
    "    'constraints': \"[PERSON]'s medical condition is not 'gastro-oesophageal reflux disease (gord)' [AND] [PERSON]'s medical condition is 'obstructive sleep apnea' [AND] [PERSON]'s medical condition is not 'post-op caesarean-section' [AND] [PERSON]'s medical condition is not 'pregnant'\",\n",
    "    'country' : 'germany'\n",
    "}\n",
    "\n",
    "context = \"\"\"\n",
    "**Setting: A cozy bedroom in Germany, dimly lit with soft music playing in the background.**\n",
    "\n",
    "**Characters:**\n",
    "- **Anna**: A woman in her early thirties, recently diagnosed with obstructive sleep apnea.\n",
    "- **Lukas**: Anna's supportive partner, concerned about her health.\n",
    "\n",
    "---\n",
    "\n",
    "**Anna**: (sitting on the edge of the bed, looking a bit tired) Ich habe wieder nicht gut geschlafen, Lukas. Es ist wirklich frustrierend.\n",
    "\n",
    "**Lukas**: (sitting beside her, gently rubbing her back) Ich weiß, Anna. Hast du die Maske heute Nacht wieder getragen?\n",
    "\n",
    "**Anna**: Ja, aber ich habe das Gefühl, dass sie nicht richtig sitzt. Manchmal fühle ich mich, als würde ich ersticken.\n",
    "\n",
    "**Lukas**: Das klingt beängstigend. Vielleicht sollten wir mit deinem Arzt sprechen, um sicherzustellen, dass die Einstellung der Maschine stimmt.\n",
    "\n",
    "**Anna**: (sighs) Ja, das denke ich auch. Ich möchte einfach wieder gut schlafen können. Es ist so anstrengend, den ganzen Tag müde zu sein.\n",
    "\n",
    "**Lukas**: (nodding) Ich kann mir vorstellen, wie schwierig das ist. Hast du schon darüber nachgedacht, ob es etwas gibt, das wir zu Hause ändern können? Vielleicht die Schlafposition oder das Kissen?\n",
    "\n",
    "**Anna**: (thoughtfully) Ich habe gehört, dass das Schlafen auf der Seite helfen kann. Aber ich bin so daran gewöhnt, auf dem Rücken zu schlafen.\n",
    "\n",
    "**Lukas**: (encouragingly) Lass es uns versuchen! Wir könnten ein Kissen kaufen, das dir hilft, auf der Seite zu bleiben. Und ich kann dir helfen, dich daran zu gewöhnen.\n",
    "\n",
    "**Anna**: (smiling slightly) Das wäre toll. Ich schätze deine Unterstützung so sehr. Es macht es ein bisschen einfacher, wenn ich nicht alleine bin.\n",
    "\n",
    "**Lukas**: (smiling back) Natürlich, wir sind ein Team. Und ich werde alles tun, um sicherzustellen, dass du die Ruhe bekommst, die du brauchst.\n",
    "\n",
    "**Anna**: (taking a deep breath) Danke, Lukas. Ich fühle mich schon besser, nur weil ich mit dir darüber gesprochen habe.\n",
    "\n",
    "**Lukas**: (leaning closer) Das ist es, was Partner tun. Lass uns morgen einen Termin beim Arzt machen und dann sehen, was wir tun können, um deine Nächte besser zu machen.\n",
    "\n",
    "**Anna**: (nodding) Ja, das klingt nach einem Plan. Ich bin froh, dass ich dich an meiner Seite habe.\n",
    "\n",
    "**Lukas**: (kissing her forehead) Immer, Anna. Wir schaffen das zusammen.\n",
    "\n",
    "--- \n",
    "\n",
    "**(The scene fades as they continue to talk softly, planning for a better night's sleep.)**\n",
    "\"\"\"\n",
    "norm_template = \"\"\"\n",
    "Given an input Text, respond with Social Norms that are assumed by the speaker of the text, in English. Social Norms\n",
    "are rules and standards that are understood by members of a group, and that guide or constrain social behaviors\n",
    "without the force of law. The Social Norms must be complete, correct, different, not contradicting with each other,\n",
    "inferable from text.\n",
    "\n",
    "Text: {context}\n",
    "\n",
    "Schema:\n",
    "Norms typically follow one of the following templates, and elaborate on the applicable conditions or why:\n",
    "It's [good/helpful/important/expected] to do action [Y], under situation [Z]\n",
    "It's [wrong/evil/not normal/unlawful] to do action [Y], for reason [Z]\n",
    "In context [C], if one wants to do task or goal [X], one should / not force [P] to do behavior [Y]\n",
    "List some social norms related to the situation, , in detail over separate lines:\n",
    "\"\"\"\n",
    "\n",
    "norm_extract_prompt = PromptTemplate(\n",
    "    template=norm_template,\n",
    "    input_variables=[\"context\"]\n",
    ")\n",
    "\n",
    "output_parser = StrOutputParser()\n",
    "norm_chain = norm_extract_prompt | model | output_parser\n",
    "norm_result = norm_chain.invoke({\"context\" : context})"
   ]
  },
  {
   "cell_type": "code",
   "execution_count": 13,
   "metadata": {},
   "outputs": [
    {
     "name": "stdout",
     "output_type": "stream",
     "text": [
      "1. It's important to communicate openly about health issues, especially in a supportive relationship, to foster understanding and collaboration in finding solutions.\n",
      "\n",
      "2. It's expected that partners will provide emotional support and encouragement during challenging times, such as dealing with health concerns like sleep apnea.\n",
      "\n",
      "3. It's helpful to seek professional advice when facing health-related challenges, as consulting a doctor can provide guidance and reassurance.\n",
      "\n",
      "4. It's considered supportive to actively participate in finding solutions to a partner's health issues, such as suggesting changes in sleep habits or purchasing helpful items like special pillows.\n",
      "\n",
      "5. In the context of a romantic relationship, expressing gratitude for support and assistance is important for maintaining a positive emotional connection.\n",
      "\n",
      "6. It's normal to feel frustrated or anxious about health problems, and sharing these feelings with a partner is a healthy way to cope.\n",
      "\n",
      "7. It's expected that partners will work together as a team to address challenges, reinforcing the idea of mutual support and shared responsibility in a relationship.\n"
     ]
    }
   ],
   "source": [
    "print(norm_result)"
   ]
  },
  {
   "cell_type": "markdown",
   "metadata": {},
   "source": [
    "## Hofstede-Verification"
   ]
  },
  {
   "cell_type": "code",
   "execution_count": 153,
   "metadata": {},
   "outputs": [],
   "source": [
    "from langchain_core.output_parsers import JsonOutputParser\n",
    "from langchain_core.prompts import PromptTemplate\n",
    "from langchain_core.pydantic_v1 import BaseModel, Field\n",
    "\n",
    "# Define the data structure for Personal Medical Information.\n",
    "class HofstedeDimension(BaseModel):\n",
    "    pdi : str = Field(..., description=\"Power Distance Index (PDI): Examine the balance of authority and roles (e.g., leadership vs. community).\", \n",
    "                      enum=[\"low\", \"medium\", \"high\"])\n",
    "    idv : str = Field(..., description=\"Individualism vs. Collectivism (IDV): Determine whether the dialogue emphasizes individual goals or collective well-being.\", \n",
    "                      enum=[\"low\", \"medium\", \"high\"])\n",
    "    mas : str = Field(..., description=\"Masculinity vs. Femininity (MAS): Evaluate whether the focus is on competition and achievement or care, cooperation, and harmony.\", \n",
    "                      enum=[\"low\", \"medium\", \"high\"])\n",
    "    uai : str = Field(..., description=\"Uncertainty Avoidance Index (UAI): Assess whether the dialogue reflects comfort with change and adaptability or a preference for tradition and stability.\", \n",
    "                      enum=[\"low\", \"medium\", \"high\"])\n",
    "    lto : str = Field(..., description=\"Long-Term vs. Short-Term Orientation (LTO): Consider how traditions are preserved or balanced with short-term flexibility.\", \n",
    "                      enum=[\"low\", \"medium\", \"high\"])\n",
    "    ivr : str = Field(..., description=\"Indulgence vs. Restraint (IVR): Identify expressions of celebration, emotional freedom, or restraint in behavior.\", \n",
    "                      enum=[\"low\", \"medium\", \"high\"])\n",
    "\n",
    "verify_hofstede_template = \"\"\"\n",
    "Dialogues:\n",
    "{dialogues}\n",
    "\n",
    "Analyze the provided dialogues using Hofstede’s Cultural Dimensions Theory and predict how the score reflects the six dimensions. \n",
    "\n",
    "Return a JSON object.\n",
    "{format_instructions}\n",
    "\"\"\"\n",
    "\n",
    "# Step 6: Define output parser (just as you have done in the reference)\n",
    "parser = JsonOutputParser(pydantic_object=HofstedeDimension)\n",
    "\n",
    "verify_hofstede_prompt = PromptTemplate(\n",
    "    template=verify_hofstede_template,\n",
    "    input_variables=[\"dialogues\"],\n",
    "    partial_variables={\"format_instructions\": parser.get_format_instructions()},\n",
    ")\n",
    "\n",
    "\n",
    "verify_hofstede_chain = verify_hofstede_prompt | model | parser\n",
    "# Step 9: Generate the result\n",
    "verify_hofstede_answer = verify_hofstede_chain.invoke({\"dialogues\": dialogues})"
   ]
  },
  {
   "cell_type": "code",
   "execution_count": 154,
   "metadata": {},
   "outputs": [
    {
     "data": {
      "text/plain": [
       "{'pdi': 'low',\n",
       " 'idv': 'medium',\n",
       " 'mas': 'low',\n",
       " 'uai': 'medium',\n",
       " 'lto': 'medium',\n",
       " 'ivr': 'medium'}"
      ]
     },
     "execution_count": 154,
     "metadata": {},
     "output_type": "execute_result"
    }
   ],
   "source": [
    "verify_hofstede_answer"
   ]
  },
  {
   "cell_type": "code",
   "execution_count": 155,
   "metadata": {},
   "outputs": [
    {
     "data": {
      "text/plain": [
       "4"
      ]
     },
     "execution_count": 155,
     "metadata": {},
     "output_type": "execute_result"
    }
   ],
   "source": [
    "# Function to compare the values\n",
    "def compare_dimensions(germany_dimension, verify_hofstede_answer):\n",
    "    match_count = 0\n",
    "    for key in verify_hofstede_answer:\n",
    "        if germany_dimension.get(f\"{key}_value\") == verify_hofstede_answer[key]:\n",
    "            match_count += 1\n",
    "    return match_count\n",
    "\n",
    "# Comparing the dimensions and getting the result\n",
    "match_count = compare_dimensions(germany_dimension, verify_hofstede_answer)\n",
    "match_count"
   ]
  },
  {
   "cell_type": "code",
   "execution_count": 157,
   "metadata": {},
   "outputs": [],
   "source": [
    "import json\n",
    "\n",
    "# Function to save dialogues to a JSONL file when match_count >= 4\n",
    "def save_dialogues_to_jsonl(country, verify_hofstede_answer, dialogues, match_count, file_path='dialogues.jsonl'):\n",
    "    if match_count >= 4:\n",
    "        data = {\n",
    "            'country': country,\n",
    "            'hofstede_dimension': verify_hofstede_answer,\n",
    "            'dialogues': dialogues\n",
    "        }\n",
    "        with open(file_path, 'a') as file:\n",
    "            json.dump(data, file)\n",
    "            file.write('\\n')\n",
    "\n",
    "# Example of how to call the function with a country, dialogues, and match_count\n",
    "dialogues = [\n",
    "    \"What are the Hofstede dimensions for Germany?\",\n",
    "    \"How do cultural values in Germany differ from other countries?\"\n",
    "]\n",
    "\n",
    "# Calling the function with the Germany example data\n",
    "save_dialogues_to_jsonl('Germany', verify_hofstede_answer, dialogues, match_count)\n",
    "\n",
    "# This function appends the data to 'dialogues.jsonl' if match_count >= 4.\n",
    "# The data will be added in the specified format as a new line in the JSONL file."
   ]
  },
  {
   "cell_type": "code",
   "execution_count": null,
   "metadata": {},
   "outputs": [],
   "source": []
  }
 ],
 "metadata": {
  "kernelspec": {
   "display_name": "Python (myenv thainorms)",
   "language": "python",
   "name": "myenv"
  },
  "language_info": {
   "codemirror_mode": {
    "name": "ipython",
    "version": 3
   },
   "file_extension": ".py",
   "mimetype": "text/x-python",
   "name": "python",
   "nbconvert_exporter": "python",
   "pygments_lexer": "ipython3",
   "version": "3.10.6"
  }
 },
 "nbformat": 4,
 "nbformat_minor": 4
}
