{
 "cells": [
  {
   "cell_type": "code",
   "execution_count": 1,
   "id": "c1e94f5a-1cae-40ab-b5df-5390665ca31e",
   "metadata": {},
   "outputs": [],
   "source": [
    "import os\n",
    "from dotenv import load_dotenv\n",
    "from langchain_core.output_parsers import StrOutputParser\n",
    "from langchain_core.prompts import PromptTemplate\n",
    "from langchain_openai import AzureChatOpenAI\n",
    "\n",
    "# Step 1: Load environment variables from .env file\n",
    "load_dotenv(\".env\")\n",
    "\n",
    "# Step 2: Retrieve Azure OpenAI environment variables\n",
    "AZURE_OPENAI_ENDPOINT = os.getenv(\"AZURE_OPENAI_ENDPOINT\")\n",
    "AZURE_OPENAI_API_KEY = os.getenv(\"AZURE_OPENAI_API_KEY\")\n",
    "OPENAI_API_VERSION = os.getenv(\"OPENAI_API_VERSION\")\n",
    "\n",
    "# Step 3: Initialize the Azure OpenAI model with required parameters\n",
    "model = AzureChatOpenAI(\n",
    "    azure_deployment=\"gpt-4o-mini\",  # Your Azure deployment\n",
    "    api_version=OPENAI_API_VERSION,  # Your API version\n",
    "    api_key=AZURE_OPENAI_API_KEY,\n",
    "    azure_endpoint=AZURE_OPENAI_ENDPOINT,\n",
    "    temperature=0,  # Controls randomness; 0 is more deterministic\n",
    "    max_tokens=None,  # Set according to your needs\n",
    "    timeout=None  # Adjust if needed\n",
    ")"
   ]
  },
  {
   "cell_type": "code",
   "execution_count": null,
   "id": "c381ffab-7937-40a2-9e75-8f9ded7b0d7f",
   "metadata": {},
   "outputs": [],
   "source": []
  }
 ],
 "metadata": {
  "kernelspec": {
   "display_name": "Python (myenv thainorms)",
   "language": "python",
   "name": "myenv"
  },
  "language_info": {
   "codemirror_mode": {
    "name": "ipython",
    "version": 3
   },
   "file_extension": ".py",
   "mimetype": "text/x-python",
   "name": "python",
   "nbconvert_exporter": "python",
   "pygments_lexer": "ipython3",
   "version": "3.10.6"
  }
 },
 "nbformat": 4,
 "nbformat_minor": 5
}
