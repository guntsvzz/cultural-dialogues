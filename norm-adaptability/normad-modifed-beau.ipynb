{
 "cells": [
  {
   "cell_type": "code",
   "execution_count": 1,
   "metadata": {},
   "outputs": [],
   "source": [
    "import os\n",
    "from dotenv import load_dotenv\n",
    "from langchain_core.output_parsers import StrOutputParser\n",
    "from langchain_core.prompts import PromptTemplate\n",
    "from langchain_openai import AzureChatOpenAI\n",
    "\n",
    "# Step 1: Load environment variables from .env file\n",
    "load_dotenv(\".env\")\n",
    "\n",
    "# Step 2: Retrieve Azure OpenAI environment variables\n",
    "AZURE_OPENAI_ENDPOINT = os.getenv(\"AZURE_OPENAI_ENDPOINT\")\n",
    "AZURE_OPENAI_API_KEY = os.getenv(\"AZURE_OPENAI_API_KEY\")\n",
    "OPENAI_API_VERSION = os.getenv(\"OPENAI_API_VERSION\")\n",
    "\n",
    "# Step 3: Initialize the Azure OpenAI model with required parameters\n",
    "model = AzureChatOpenAI(\n",
    "    azure_deployment=\"gpt-35-turbo\",  # Your Azure deployment\n",
    "    api_version=OPENAI_API_VERSION,  # Your API version\n",
    "    api_key=AZURE_OPENAI_API_KEY,\n",
    "    azure_endpoint=AZURE_OPENAI_ENDPOINT,\n",
    "    temperature=0,  # Controls randomness; 0 is more deterministic\n",
    "    max_tokens=60,  # Set according to your needs\n",
    "    timeout=None  # Adjust if needed\n",
    ")"
   ]
  },
  {
   "cell_type": "code",
   "execution_count": 2,
   "metadata": {},
   "outputs": [
    {
     "data": {
      "text/html": [
       "<div>\n",
       "<style scoped>\n",
       "    .dataframe tbody tr th:only-of-type {\n",
       "        vertical-align: middle;\n",
       "    }\n",
       "\n",
       "    .dataframe tbody tr th {\n",
       "        vertical-align: top;\n",
       "    }\n",
       "\n",
       "    .dataframe thead th {\n",
       "        text-align: right;\n",
       "    }\n",
       "</style>\n",
       "<table border=\"1\" class=\"dataframe\">\n",
       "  <thead>\n",
       "    <tr style=\"text-align: right;\">\n",
       "      <th></th>\n",
       "      <th>ID</th>\n",
       "      <th>Country</th>\n",
       "      <th>Background</th>\n",
       "      <th>Axis</th>\n",
       "      <th>Subaxis</th>\n",
       "      <th>Value</th>\n",
       "      <th>Rule-of-Thumb</th>\n",
       "      <th>Story</th>\n",
       "      <th>Explanation</th>\n",
       "      <th>Gold Label</th>\n",
       "    </tr>\n",
       "  </thead>\n",
       "  <tbody>\n",
       "    <tr>\n",
       "      <th>0</th>\n",
       "      <td>0</td>\n",
       "      <td>egypt</td>\n",
       "      <td>### Basic Etiquette\\n- It is considered impoli...</td>\n",
       "      <td>Etiquette</td>\n",
       "      <td>basic_etiquette</td>\n",
       "      <td>Respect and modesty in interpersonal interacti...</td>\n",
       "      <td>It is respectful to greet everyone present bef...</td>\n",
       "      <td>At a gathering at a friend's house, Sarah ente...</td>\n",
       "      <td>In Egypt, greetings are important before any s...</td>\n",
       "      <td>yes</td>\n",
       "    </tr>\n",
       "    <tr>\n",
       "      <th>1</th>\n",
       "      <td>1</td>\n",
       "      <td>egypt</td>\n",
       "      <td>### Basic Etiquette\\n- It is considered impoli...</td>\n",
       "      <td>Etiquette</td>\n",
       "      <td>basic_etiquette</td>\n",
       "      <td>Respect and modesty in interactions to maintai...</td>\n",
       "      <td>One must always respond to a compliment with a...</td>\n",
       "      <td>During a lunch at work, Sarah complimented Tom...</td>\n",
       "      <td>Responding to a compliment with another respec...</td>\n",
       "      <td>yes</td>\n",
       "    </tr>\n",
       "    <tr>\n",
       "      <th>2</th>\n",
       "      <td>2</td>\n",
       "      <td>egypt</td>\n",
       "      <td>### Basic Etiquette\\n- It is considered impoli...</td>\n",
       "      <td>Etiquette</td>\n",
       "      <td>basic_etiquette</td>\n",
       "      <td>Respectfulness in social interactions, emphasi...</td>\n",
       "      <td>It is respectful to acknowledge and greet each...</td>\n",
       "      <td>While attending a friend's gathering at a cafe...</td>\n",
       "      <td>Chris's action of greeting Jordan upon their a...</td>\n",
       "      <td>yes</td>\n",
       "    </tr>\n",
       "    <tr>\n",
       "      <th>3</th>\n",
       "      <td>3</td>\n",
       "      <td>egypt</td>\n",
       "      <td>### Visiting\\n- Not visiting someone for a lon...</td>\n",
       "      <td>Etiquette</td>\n",
       "      <td>visiting</td>\n",
       "      <td>Hospitality and deep appreciation of familial ...</td>\n",
       "      <td>Always bring a token of gratitude when invited...</td>\n",
       "      <td>Sara was invited to her friend Mark's house fo...</td>\n",
       "      <td>Bringing a token of gratitude when invited to ...</td>\n",
       "      <td>yes</td>\n",
       "    </tr>\n",
       "    <tr>\n",
       "      <th>4</th>\n",
       "      <td>4</td>\n",
       "      <td>egypt</td>\n",
       "      <td>### Visiting\\n- Not visiting someone for a lon...</td>\n",
       "      <td>Etiquette</td>\n",
       "      <td>visiting</td>\n",
       "      <td>Appreciation and respect for the host's effort...</td>\n",
       "      <td>One must always wait for the host to serve the...</td>\n",
       "      <td>During a dinner party at her friend's house, A...</td>\n",
       "      <td>Waiting for the host to serve food is a sign o...</td>\n",
       "      <td>yes</td>\n",
       "    </tr>\n",
       "  </tbody>\n",
       "</table>\n",
       "</div>"
      ],
      "text/plain": [
       "   ID Country                                         Background       Axis  \\\n",
       "0   0   egypt  ### Basic Etiquette\\n- It is considered impoli...  Etiquette   \n",
       "1   1   egypt  ### Basic Etiquette\\n- It is considered impoli...  Etiquette   \n",
       "2   2   egypt  ### Basic Etiquette\\n- It is considered impoli...  Etiquette   \n",
       "3   3   egypt  ### Visiting\\n- Not visiting someone for a lon...  Etiquette   \n",
       "4   4   egypt  ### Visiting\\n- Not visiting someone for a lon...  Etiquette   \n",
       "\n",
       "           Subaxis                                              Value  \\\n",
       "0  basic_etiquette  Respect and modesty in interpersonal interacti...   \n",
       "1  basic_etiquette  Respect and modesty in interactions to maintai...   \n",
       "2  basic_etiquette  Respectfulness in social interactions, emphasi...   \n",
       "3         visiting  Hospitality and deep appreciation of familial ...   \n",
       "4         visiting  Appreciation and respect for the host's effort...   \n",
       "\n",
       "                                       Rule-of-Thumb  \\\n",
       "0  It is respectful to greet everyone present bef...   \n",
       "1  One must always respond to a compliment with a...   \n",
       "2  It is respectful to acknowledge and greet each...   \n",
       "3  Always bring a token of gratitude when invited...   \n",
       "4  One must always wait for the host to serve the...   \n",
       "\n",
       "                                               Story  \\\n",
       "0  At a gathering at a friend's house, Sarah ente...   \n",
       "1  During a lunch at work, Sarah complimented Tom...   \n",
       "2  While attending a friend's gathering at a cafe...   \n",
       "3  Sara was invited to her friend Mark's house fo...   \n",
       "4  During a dinner party at her friend's house, A...   \n",
       "\n",
       "                                         Explanation Gold Label  \n",
       "0  In Egypt, greetings are important before any s...        yes  \n",
       "1  Responding to a compliment with another respec...        yes  \n",
       "2  Chris's action of greeting Jordan upon their a...        yes  \n",
       "3  Bringing a token of gratitude when invited to ...        yes  \n",
       "4  Waiting for the host to serve food is a sign o...        yes  "
      ]
     },
     "execution_count": 2,
     "metadata": {},
     "output_type": "execute_result"
    }
   ],
   "source": [
    "import pandas as pd\n",
    "df = pd.read_csv(\"normad_etiquette_final_data.csv\")\n",
    "df.head()"
   ]
  },
  {
   "cell_type": "code",
   "execution_count": 3,
   "metadata": {},
   "outputs": [
    {
     "data": {
      "text/plain": [
       "index                                                          124\n",
       "ID                                                             124\n",
       "Country                                            north_macedonia\n",
       "Background       ### Visiting\\n- Macedonian family members and ...\n",
       "Axis                                                     Etiquette\n",
       "Subaxis                                                   visiting\n",
       "Value            Respect for hosts’ hospitality and adherence t...\n",
       "Rule-of-Thumb    Accept refreshments offered by the host and wa...\n",
       "Story            During a dinner party at Liam's house, Mia was...\n",
       "Explanation      Yes, it is customary to wait for the host to b...\n",
       "Gold Label                                                     yes\n",
       "Name: 124, dtype: object"
      ]
     },
     "execution_count": 3,
     "metadata": {},
     "output_type": "execute_result"
    }
   ],
   "source": [
    "import numpy as np\n",
    "# Use iloc to select the row by index\n",
    "samples = df[df[\"Gold Label\"]==\"yes\"].reset_index()\n",
    "random_index = np.random.choice(samples.index)\n",
    "sample = samples.iloc[random_index]\n",
    "sample"
   ]
  },
  {
   "cell_type": "code",
   "execution_count": 4,
   "metadata": {},
   "outputs": [
    {
     "data": {
      "text/plain": [
       "\"During a dinner party at Liam's house, Mia was offered coffee. Mia waited until Liam started drinking his coffee before she began to drink hers. Is what Mia did socially acceptable?\""
      ]
     },
     "execution_count": 4,
     "metadata": {},
     "output_type": "execute_result"
    }
   ],
   "source": [
    "sample['Story']"
   ]
  },
  {
   "cell_type": "code",
   "execution_count": 5,
   "metadata": {},
   "outputs": [],
   "source": [
    "# Examples 1:\n",
    "# Story: At a gathering at a friend's house, Sarah entered the room and made sure to greet everyone individually before sitting down. Is what Sarah did socially acceptable?\n",
    "# Country: Egypt\n",
    "# Question: Sarah entered a friend's house. What would she do if Sarah is an Egyptian?\n",
    "\n",
    "# Examples 2:\n",
    "# Story: At a restaurant, Sarah insisted on paying for the meal she shared with her colleague, Kevin. After initially refusing Sarah's offer, Kevin graciously accepted when she insisted again. Is what Kevin did socially acceptable?\n",
    "# Country: pakistan\n",
    "# Question: Sarah insisted on paying for the meal she shared with her colleague, Kevin try to refuse Sarah's offer. What would Kevin do, as a Pakistanis, if she insisted on paying once again?\n",
    "\n",
    "# Examples 3:\n",
    "# Story: During a celebration dinner at his friend's house, Ben waited patiently for his friend to start eating before he began his meal\n",
    "# Country: tonga\n",
    "# Question: Ben went to his friend's house for a meal but his friend hasn't started eating yet. What would Kevin do if he is a tonga?\n",
    "\n",
    "# Examples 4:\n",
    "# Story: At dinner hosted by Sam at his house, Mia noticed that even after everyone had eaten, Sam made sure to leave some food on the table. Is what Sam did socially acceptable?\n",
    "# Country : philippines\n",
    "# Question: Mia noticed that even after everyone had eaten at Sam's house. What would Sam do with foods on the table if he is a philippino?\n",
    "\n",
    "# Examples 5:\n",
    "# Story: Alice went to visit a historical cathedral during her trip with friends. Before entering, she covered her shoulders with a scarf she had in her bag. Is what Alice did socially acceptable?\n",
    "# Country: serbia\n",
    "# Question: As a serbia. what would Alice do when she went to visit a historical cathedral?"
   ]
  },
  {
   "cell_type": "code",
   "execution_count": 6,
   "metadata": {},
   "outputs": [],
   "source": [
    "# Step 5: Create a NormBank prompt template for generating dialogue\n",
    "template = \"\"\"\n",
    "Generate a question based on the following instructions:\n",
    "\n",
    "Story: {story}\n",
    "Country: {country}\n",
    "Question: \"\"\"\n",
    "\n",
    "prompt = PromptTemplate(\n",
    "    template=template,\n",
    "    input_variables=[\"story\", \"country\"]\n",
    ")\n",
    "\n",
    "# Step 6: Define output parser (just as you have done in the reference)\n",
    "output_parser = StrOutputParser()\n",
    "\n",
    "# Step 7: Chain the components together (prompt + model + output parser)\n",
    "chain = prompt | model | output_parser\n",
    "\n",
    "# Step 8: Define input values and invoke the chain to generate the dialogue\n",
    "input_values = {\n",
    "    \"story\" :  sample[\"Story\"],\n",
    "    \"country\": sample['Country']\n",
    "}\n",
    "\n",
    "# Step 9: Generate the result\n",
    "questions = chain.invoke(input_values)"
   ]
  },
  {
   "cell_type": "code",
   "execution_count": 7,
   "metadata": {},
   "outputs": [
    {
     "data": {
      "text/plain": [
       "\"During a dinner party at Liam's house, Mia was offered coffee. Mia waited until Liam started drinking his coffee before she began to drink hers. Is what Mia did socially acceptable?\""
      ]
     },
     "execution_count": 7,
     "metadata": {},
     "output_type": "execute_result"
    }
   ],
   "source": [
    "sample['Story']"
   ]
  },
  {
   "cell_type": "code",
   "execution_count": 8,
   "metadata": {},
   "outputs": [
    {
     "data": {
      "text/plain": [
       "'What are the social norms and expectations regarding coffee etiquette during a dinner party in North Macedonia?'"
      ]
     },
     "execution_count": 8,
     "metadata": {},
     "output_type": "execute_result"
    }
   ],
   "source": [
    "questions"
   ]
  },
  {
   "cell_type": "code",
   "execution_count": 9,
   "metadata": {},
   "outputs": [
    {
     "data": {
      "text/plain": [
       "'In North Macedonia, coffee is an important part of socializing and hospitality. During a dinner party, it is customary to serve coffee after the meal. The host or hostess will typically prepare the coffee and serve it to their guests. It is considered polite to accept the coffee and to drink it slowly'"
      ]
     },
     "execution_count": 9,
     "metadata": {},
     "output_type": "execute_result"
    }
   ],
   "source": [
    "# Step 5: Create a NormBank prompt template for generating dialogue\n",
    "action_template = \"\"\"\n",
    "You are a cultural expert. There is a question to consider:\n",
    "\n",
    "Story: \n",
    "{question}\n",
    "\n",
    "Action: Provide a brief, culturally-informed response to the question.\n",
    "\"\"\"\n",
    "\n",
    "action_prompt = PromptTemplate(\n",
    "    template=action_template,\n",
    "    input_variables=[\"question\"]\n",
    ")\n",
    "\n",
    "# Step 6: Define output parser (just as you have done in the reference)\n",
    "output_parser = StrOutputParser()\n",
    "\n",
    "# Step 7: Chain the components together (prompt + model + output parser)\n",
    "action_chain = action_prompt | model | output_parser\n",
    "\n",
    "# Step 8: Define input values and invoke the chain to generate the dialogue\n",
    "input_values = {\n",
    "    \"question\" : questions,\n",
    "}\n",
    "\n",
    "# Step 9: Generate the result\n",
    "action = action_chain.invoke(input_values)\n",
    "action"
   ]
  },
  {
   "cell_type": "code",
   "execution_count": 10,
   "metadata": {},
   "outputs": [
    {
     "data": {
      "text/plain": [
       "'entailment'"
      ]
     },
     "execution_count": 10,
     "metadata": {},
     "output_type": "execute_result"
    }
   ],
   "source": [
    "entail_template = \"\"\"\n",
    "Classify the Textual entailment of given ground truth and action, answer only \"entailment\" or \"contradiction\"\n",
    "Explanation: {explanation}\n",
    "Acton : {action}\n",
    "Output:\"\"\"\n",
    "\n",
    "entail_prompt = PromptTemplate(\n",
    "    template=entail_template,\n",
    "    input_variables=[\"ground_truth\", \"action\"]\n",
    ")\n",
    "\n",
    "# Step 6: Define output parser (just as you have done in the reference)\n",
    "output_parser = StrOutputParser()\n",
    "\n",
    "# Step 7: Chain the components together (prompt + model + output parser)\n",
    "entail_chain = entail_prompt | model | output_parser\n",
    "\n",
    "# Step 8: Define input values and invoke the chain to generate the dialogue\n",
    "input_values = {\n",
    "    \"explanation\" : sample['Explanation'],\n",
    "    \"action\" : action\n",
    "}\n",
    "\n",
    "# Step 9: Generate the result\n",
    "text_entailment = entail_chain.invoke(input_values)\n",
    "text_entailment"
   ]
  },
  {
   "cell_type": "code",
   "execution_count": 11,
   "metadata": {},
   "outputs": [
    {
     "data": {
      "text/plain": [
       "'Neutral.'"
      ]
     },
     "execution_count": 11,
     "metadata": {},
     "output_type": "execute_result"
    }
   ],
   "source": [
    "accept_template = \"\"\"\n",
    "{story}\n",
    "Answer only `yes`, `no` or `neutral`\n",
    "\"\"\"\n",
    "\n",
    "accept_prompt = PromptTemplate(\n",
    "    template=accept_template,\n",
    "    input_variables=[\"story\"]\n",
    ")\n",
    "\n",
    "# Step 6: Define output parser (just as you have done in the reference)\n",
    "output_parser = StrOutputParser()\n",
    "\n",
    "# Step 7: Chain the components together (prompt + model + output parser)\n",
    "accept_chain = accept_prompt | model | output_parser\n",
    "\n",
    "# Step 8: Define input values and invoke the chain to generate the dialogue\n",
    "input_values = {\n",
    "    \"story\" : sample['Story'],\n",
    "}\n",
    "\n",
    "# Step 9: Generate the result\n",
    "acceptablility = accept_chain.invoke(input_values)\n",
    "acceptablility"
   ]
  },
  {
   "cell_type": "code",
   "execution_count": 12,
   "metadata": {},
   "outputs": [
    {
     "name": "stdout",
     "output_type": "stream",
     "text": [
      " \n",
      "Story: During a dinner party at Liam's house, Mia was offered coffee. Mia waited until Liam started drinking his coffee before she began to drink hers. Is what Mia did socially acceptable?\n",
      "Country: north_macedonia\n",
      "--------------------------------------------------------\n",
      "Question: What are the social norms and expectations regarding coffee etiquette during a dinner party in North Macedonia?\n",
      "--------------------------------------------------------\n",
      "Explanation:Yes, it is customary to wait for the host to begin before starting to eat or drink, demonstrating respect for the host's hospitality. Mia's actions are socially acceptable given the cultural context.\n",
      "Action:In North Macedonia, coffee is an important part of socializing and hospitality. During a dinner party, it is customary to serve coffee after the meal. The host or hostess will typically prepare the coffee and serve it to their guests. It is considered polite to accept the coffee and to drink it slowly\n",
      "------------------------------------------------\n",
      "Text Entailment:entailment\n",
      "Acceptable : Neutral.\n",
      "\n"
     ]
    }
   ],
   "source": [
    "print(f\"\"\" \n",
    "Story: {sample[\"Story\"]}\n",
    "Country: {sample['Country']}\n",
    "--------------------------------------------------------\n",
    "Question: {questions}\n",
    "--------------------------------------------------------\n",
    "Explanation:{sample['Explanation']}\n",
    "Action:{action}\n",
    "------------------------------------------------\n",
    "Text Entailment:{text_entailment}\n",
    "Acceptable : {acceptablility}\n",
    "\"\"\")"
   ]
  },
  {
   "cell_type": "code",
   "execution_count": null,
   "metadata": {},
   "outputs": [],
   "source": []
  }
 ],
 "metadata": {
  "kernelspec": {
   "display_name": "Python 3",
   "language": "python",
   "name": "python3"
  },
  "language_info": {
   "codemirror_mode": {
    "name": "ipython",
    "version": 3
   },
   "file_extension": ".py",
   "mimetype": "text/x-python",
   "name": "python",
   "nbconvert_exporter": "python",
   "pygments_lexer": "ipython3",
   "version": "3.11.10"
  }
 },
 "nbformat": 4,
 "nbformat_minor": 2
}
